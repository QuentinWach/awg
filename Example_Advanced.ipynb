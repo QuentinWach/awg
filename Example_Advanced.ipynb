{
 "cells": [
  {
   "cell_type": "code",
   "execution_count": 1,
   "metadata": {},
   "outputs": [],
   "source": [
    "from awg import *\n",
    "from awg.core import *\n",
    "import matplotlib.pyplot as plt\n",
    "import numpy as np"
   ]
  },
  {
   "cell_type": "markdown",
   "metadata": {},
   "source": [
    "## The purpose of this tutorial is to feature more advanced applications of the model."
   ]
  },
  {
   "cell_type": "code",
   "execution_count": 2,
   "metadata": {},
   "outputs": [],
   "source": [
    "\n",
    "model = AWG(clad = SiO2, core = Si, subs = SiO2, lambda_c = 1.550,\n",
    "            Ni = 1, No = 9, w = 0.450, h = 0.220, N = 40, m = 75, R = 130,\n",
    "            d = 2.5, g = 0.4, do = 1.8, wi = 1.5, wo = 1.5, L0 = 20)\n",
    "\n",
    "options = SimulationOptions()\n",
    "options.PhaseErrorVariance = 0.1\n",
    "options.ModeType = \"gaussian\"\n",
    "options.PropagationLoss = 1\n",
    "options.InsertionLoss = 0.5"
   ]
  }
 ],
 "metadata": {
  "kernelspec": {
   "display_name": "Python 3",
   "language": "python",
   "name": "python3"
  },
  "language_info": {
   "codemirror_mode": {
    "name": "ipython",
    "version": 3
   },
   "file_extension": ".py",
   "mimetype": "text/x-python",
   "name": "python",
   "nbconvert_exporter": "python",
   "pygments_lexer": "ipython3",
   "version": "3.6.5"
  }
 },
 "nbformat": 4,
 "nbformat_minor": 2
}
